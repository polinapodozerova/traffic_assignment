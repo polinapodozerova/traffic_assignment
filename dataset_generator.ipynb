{
 "cells": [
  {
   "cell_type": "code",
   "execution_count": 2,
   "id": "56aca9b7",
   "metadata": {},
   "outputs": [],
   "source": [
    "import networkx as nx\n",
    "import pandas as pd\n",
    "import numpy as np\n",
    "import random\n",
    "import pickle\n",
    "import math\n",
    "import time\n",
    "import os\n",
    "from utils import create_network_df, generate_od_matrices, prepare_network_data, generate_capacity_matrices\n",
    "from leblanc import leblanc_algorithm\n",
    "from tqdm import tqdm\n",
    "import openmatrix as omx"
   ]
  },
  {
   "cell_type": "code",
   "execution_count": 3,
   "id": "4ecdc288",
   "metadata": {},
   "outputs": [
    {
     "data": {
      "text/plain": [
       "'/home/polina/kans/traffic_assignment'"
      ]
     },
     "execution_count": 3,
     "metadata": {},
     "output_type": "execute_result"
    }
   ],
   "source": [
    "pwd = os.getcwd()\n",
    "pwd"
   ]
  },
  {
   "cell_type": "code",
   "execution_count": 4,
   "id": "f1ff4cb1",
   "metadata": {},
   "outputs": [],
   "source": [
    "filepath_sioux = pwd + '/data/sioux'\n",
    "filepath_ema = pwd + '/data/ema'\n",
    "filepath_barc = pwd + '/data/barc'"
   ]
  },
  {
   "cell_type": "code",
   "execution_count": 5,
   "id": "3df03539",
   "metadata": {},
   "outputs": [],
   "source": [
    "sioux = create_network_df(network_name=\"SiouxFalls\")\n",
    "T_0_sioux, C_sioux = prepare_network_data(sioux)\n",
    "eps_ema = 0.005\n",
    "ema = create_network_df(network_name=\"EMA\")\n",
    "T_0_ema, C_ema = prepare_network_data(ema)\n",
    "eps_ema = 0.005\n",
    "barc = create_network_df(network_name=\"Barcelona\")\n",
    "T_0_barc, C_barc = prepare_network_data(barc)\n",
    "eps_barc = 0.05"
   ]
  },
  {
   "cell_type": "code",
   "execution_count": 6,
   "id": "4a16b999",
   "metadata": {},
   "outputs": [
    {
     "ename": "NameError",
     "evalue": "name 'OD_barc' is not defined",
     "output_type": "error",
     "traceback": [
      "\u001b[31m---------------------------------------------------------------------------\u001b[39m",
      "\u001b[31mNameError\u001b[39m                                 Traceback (most recent call last)",
      "\u001b[36mCell\u001b[39m\u001b[36m \u001b[39m\u001b[32mIn[6]\u001b[39m\u001b[32m, line 1\u001b[39m\n\u001b[32m----> \u001b[39m\u001b[32m1\u001b[39m \u001b[43mOD_barc\u001b[49m.shape\n",
      "\u001b[31mNameError\u001b[39m: name 'OD_barc' is not defined"
     ]
    }
   ],
   "source": [
    "OD_barc.shape"
   ]
  },
  {
   "cell_type": "code",
   "execution_count": null,
   "id": "b2b66771",
   "metadata": {},
   "outputs": [
    {
     "data": {
      "text/plain": [
       "array([[0., 0., 0., ..., 0., 0., 0.],\n",
       "       [0., 0., 0., ..., 0., 0., 0.],\n",
       "       [0., 0., 0., ..., 0., 0., 0.],\n",
       "       ...,\n",
       "       [0., 0., 0., ..., 0., 1., 0.],\n",
       "       [0., 0., 0., ..., 1., 0., 0.],\n",
       "       [0., 0., 0., ..., 0., 0., 0.]], shape=(930, 930))"
      ]
     },
     "execution_count": 21,
     "metadata": {},
     "output_type": "execute_result"
    }
   ],
   "source": [
    "C_barc"
   ]
  },
  {
   "cell_type": "code",
   "execution_count": null,
   "id": "20d02cf3",
   "metadata": {},
   "outputs": [],
   "source": [
    "OD_sioux = np.array([\n",
    "    [0, 100, 100, 500, 200, 300, 500, 800, 500, 1300, 500, 200, 500, 300, 500, 500, 400, 100, 300, 300, 100, 400, 300, 100],\n",
    "    [100, 0, 100, 200, 100, 400, 200, 400, 200, 600, 200, 100, 300, 100, 100, 400, 200, 0, 100, 100, 0, 100, 0, 0],\n",
    "    [100, 100, 0, 200, 100, 300, 100, 200, 100, 300, 300, 200, 100, 100, 100, 200, 100, 0, 0, 0, 0, 100, 100, 0],\n",
    "    [500, 200, 200, 0, 500, 400, 400, 700, 700, 1200, 1400, 600, 600, 500, 500, 800, 500, 100, 200, 300, 200, 400, 500, 200],\n",
    "    [200, 100, 100, 500, 0, 200, 200, 500, 800, 1000, 500, 200, 200, 100, 200, 500, 200, 0, 100, 100, 100, 200, 100, 0],\n",
    "    [300, 400, 300, 400, 200, 0, 400, 800, 400, 800, 400, 200, 200, 100, 200, 900, 500, 100, 200, 300, 100, 200, 100, 100],\n",
    "    [500, 200, 100, 400, 200, 400, 0, 1000, 600, 1900, 500, 700, 400, 200, 500, 1400, 1000, 200, 400, 500, 200, 500, 200, 100],\n",
    "    [800, 400, 200, 700, 500, 800, 1000, 0, 800, 1600, 800, 600, 600, 400, 600, 2200, 1400, 300, 700, 900, 400, 500, 300, 200],\n",
    "    [500, 200, 100, 700, 800, 400, 600, 800, 0, 2800, 1400, 600, 600, 600, 900, 1400, 900, 200, 400, 600, 300, 700, 500, 200],\n",
    "    [1300, 600, 300, 1200, 1000, 800, 1900, 1600, 2800, 0, 4000, 2000, 1900, 2100, 4000, 4400, 3900, 700, 1800, 2500, 1200, 2600, 1800, 800],\n",
    "    [500, 200, 300, 1500, 500, 400, 500, 800, 1400, 3900, 0, 1400, 1000, 1600, 1400, 1400, 1000, 100, 400, 600, 400, 1100, 1300, 600],\n",
    "    [200, 100, 200, 600, 200, 200, 700, 600, 600, 2000, 1400, 0, 1300, 700, 700, 700, 600, 200, 300, 400, 300, 700, 700, 500],\n",
    "    [500, 300, 100, 600, 200, 200, 400, 600, 600, 1900, 1000, 1300, 0, 600, 700, 600, 500, 100, 300, 600, 600, 1300, 800, 800],\n",
    "    [300, 100, 100, 500, 100, 100, 200, 400, 600, 2100, 1600, 700, 600, 0, 1300, 700, 700, 100, 300, 500, 400, 1200, 1100, 400],\n",
    "    [500, 100, 100, 500, 200, 200, 500, 600, 1000, 4000, 1400, 700, 700, 1300, 0, 1200, 1500, 200, 800, 1100, 800, 2600, 1000, 400],\n",
    "    [500, 400, 200, 800, 500, 900, 1400, 2200, 1400, 4400, 1400, 700, 600, 700, 1200, 0, 2800, 500, 1300, 1600, 600, 1200, 500, 300],\n",
    "    [400, 200, 100, 500, 200, 500, 1000, 1400, 900, 3900, 1000, 600, 500, 700, 1500, 2800, 0, 600, 1700, 1700, 600, 1700, 600, 300],\n",
    "    [100, 0, 0, 100, 0, 100, 200, 300, 200, 700, 200, 200, 100, 100, 200, 500, 600, 0, 300, 400, 100, 300, 100, 0],\n",
    "    [300, 100, 0, 200, 100, 200, 400, 700, 400, 1800, 400, 300, 300, 300, 800, 1300, 1700, 300, 0, 1200, 400, 1200, 300, 100],\n",
    "    [300, 100, 0, 300, 100, 300, 500, 900, 600, 2500, 600, 500, 600, 500, 1100, 1600, 1700, 400, 1200, 0, 1200, 2400, 700, 400],\n",
    "    [100, 0, 0, 200, 100, 100, 200, 400, 300, 1200, 400, 300, 600, 400, 800, 600, 600, 100, 400, 1200, 0, 1800, 700, 500],\n",
    "    [400, 100, 100, 400, 200, 200, 500, 500, 700, 2600, 1100, 700, 1300, 1200, 2600, 1200, 1700, 300, 1200, 2400, 1800, 0, 2100, 1100],\n",
    "    [300, 0, 100, 500, 100, 100, 200, 300, 500, 1800, 1300, 700, 800, 1100, 1000, 500, 600, 100, 300, 700, 700, 2100, 0, 700],\n",
    "    [100, 0, 0, 200, 0, 100, 100, 200, 200, 800, 600, 500, 700, 400, 400, 300, 300, 0, 100, 400, 500, 1100, 700, 0]\n",
    "])\n",
    "def read_omx_demand(file_path):\n",
    "    try:\n",
    "        with omx.open_file(file_path, 'r') as omx_file:\n",
    "            matrix_names = omx_file.list_matrices()\n",
    "            \n",
    "            if not matrix_names:\n",
    "                raise ValueError(\"No matrices found in OMX file\")\n",
    "            \n",
    "            matrix_name = matrix_names[0]\n",
    "            demand_matrix = omx_file[matrix_name]\n",
    "            \n",
    "            mapping_title = 'NO_TITLE'\n",
    "            if hasattr(omx_file, 'mappings'):\n",
    "                mapping_dict = omx_file.mappings()\n",
    "                if mapping_dict:\n",
    "                    mapping_title = next(iter(mapping_dict.keys()))\n",
    "            \n",
    "            try:\n",
    "                lookup = omx_file.mapping(title=mapping_title)\n",
    "                zones = list(lookup.values())\n",
    "            except:\n",
    "                zones = list(range(1, demand_matrix.shape[0] + 1))\n",
    "                lookup = {zone: idx for idx, zone in enumerate(zones, 1)}\n",
    "            \n",
    "            return {\n",
    "                'matrix': np.array(demand_matrix),\n",
    "                'zones': zones,\n",
    "                'lookup': lookup\n",
    "            }\n",
    "            \n",
    "    except Exception as e:\n",
    "        print(f\"Error reading OMX file: {e}\")\n",
    "        raise\n",
    "\n",
    "OD_ema = read_omx_demand(file_path='/home/polina/kans/traffic_assignment/data/demand.omx')['matrix']\n",
    "OD_barc = read_omx_demand(file_path='demand_barcelona.omx')['matrix']\n",
    "\n",
    "# demand_ema = pd.DataFrame(\n",
    "#     demand_data_ema['matrix'],\n",
    "#     index=demand_data_ema['zones'],\n",
    "#     columns=demand_data_ema['zones']\n",
    "# )\n",
    "\n",
    "# OD_eda = np.array(demand_ema)"
   ]
  },
  {
   "cell_type": "code",
   "execution_count": null,
   "id": "7556b45e",
   "metadata": {},
   "outputs": [],
   "source": [
    "num_matrices=5000\n",
    "OD_matrices_sioux = generate_od_matrices(OD_sioux, num_matrices)\n",
    "capacities_sioux = generate_capacity_matrices(C_sioux, num_matrices, disruption_level='L')\n",
    "OD_matrices_ema = generate_od_matrices(OD_ema, num_matrices)\n",
    "capacities_ema = generate_capacity_matrices(C_ema, num_matrices, disruption_level='L')"
   ]
  },
  {
   "cell_type": "code",
   "execution_count": null,
   "id": "cb0136af",
   "metadata": {},
   "outputs": [
    {
     "data": {
      "text/plain": [
       "((5000, 74, 74), (5000, 24, 24), (5000, 74, 74), (5000, 24, 24))"
      ]
     },
     "execution_count": 7,
     "metadata": {},
     "output_type": "execute_result"
    }
   ],
   "source": [
    "capacities_ema.shape, capacities_sioux.shape, OD_matrices_ema.shape, OD_matrices_sioux.shape"
   ]
  },
  {
   "cell_type": "code",
   "execution_count": null,
   "id": "3a7da8e2",
   "metadata": {},
   "outputs": [
    {
     "ename": "AssertionError",
     "evalue": "",
     "output_type": "error",
     "traceback": [
      "\u001b[31m---------------------------------------------------------------------------\u001b[39m",
      "\u001b[31mAssertionError\u001b[39m                            Traceback (most recent call last)",
      "\u001b[36mCell\u001b[39m\u001b[36m \u001b[39m\u001b[32mIn[8]\u001b[39m\u001b[32m, line 1\u001b[39m\n\u001b[32m----> \u001b[39m\u001b[32m1\u001b[39m \u001b[38;5;28;01massert\u001b[39;00m \u001b[38;5;28;01mFalse\u001b[39;00m\n",
      "\u001b[31mAssertionError\u001b[39m: "
     ]
    }
   ],
   "source": [
    "assert False"
   ]
  },
  {
   "cell_type": "code",
   "execution_count": null,
   "id": "0d2a5c07",
   "metadata": {},
   "outputs": [],
   "source": [
    "def create_index_file(iters, times, eps, folder_name, filepath):\n",
    "    files = os.listdir(filepath + f\"/{folder_name}\")\n",
    "    indices = [int(f.split('_')[1].split('.')[0]) for f in files if f.startswith('sample_')]\n",
    "    \n",
    "    df = pd.DataFrame({\n",
    "        'eps' : eps,\n",
    "        'sample_id': indices,\n",
    "        'iterations' : iters,\n",
    "        'execution_time' : times,\n",
    "        'filename': [filepath + f\"/{folder_name}/sample_{i:04d}.pkl\" for i in indices]\n",
    "    })\n",
    "    df.to_csv(filepath + f\"/{folder_name}_index.csv\", index=False)\n",
    "\n",
    "def save_dataset(OD, C, T_0, eps, filepath, num_samples=5000, with_capacities=True):\n",
    "    if with_capacities:\n",
    "        folder_name = 'with_capacities'\n",
    "    else:\n",
    "        folder_name = 'no_capacities'\n",
    "    start_time = time.time()\n",
    "    od_matrices = generate_od_matrices(OD, num_samples)\n",
    "    capacities = generate_capacity_matrices(C, num_samples, disruption_level='L')\n",
    "    times = []\n",
    "    iters = []\n",
    "    for i in tqdm(range(num_samples)):\n",
    "        result_matrix, iter_num = leblanc_algorithm(T_0, od_matrices[i], capacities[i], eps)\n",
    "        end_time = time.time()\n",
    "        total_time = end_time - start_time\n",
    "        times.append(total_time)\n",
    "        iters.append(iter_num)\n",
    "        metadata = {\n",
    "            'iterations': iter_num,\n",
    "            'execution_time': total_time,\n",
    "        }\n",
    "        data_pair = {\n",
    "            'input': od_matrices[i],\n",
    "            'capacity': capacities[i],\n",
    "            'output': result_matrix,\n",
    "            'metadata' : metadata\n",
    "        }\n",
    "        \n",
    "        filename = filepath + f\"/{folder_name}/sample_{i:04d}.pkl\"\n",
    "        with open(filename, 'wb') as f:\n",
    "            pickle.dump(data_pair, f)\n",
    "\n",
    "    create_index_file(iters, times, eps, folder_name, filepath)"
   ]
  },
  {
   "cell_type": "code",
   "execution_count": null,
   "id": "484e02df",
   "metadata": {},
   "outputs": [
    {
     "name": "stderr",
     "output_type": "stream",
     "text": [
      "Обработка moderate:   0%|          | 0/1000 [00:00<?, ?it/s]/home/polina/kans/leblanc.py:27: RuntimeWarning: invalid value encountered in divide\n",
      "  T = T_0 * (1 + 0.15 * (X / C)**4)\n",
      "/home/polina/kans/leblanc.py:35: RuntimeWarning: divide by zero encountered in divide\n",
      "  C_inv_4 = 1 / C**4\n",
      "Обработка moderate: 100%|██████████| 1000/1000 [29:53<00:00,  1.79s/it]\n"
     ]
    }
   ],
   "source": [
    "# save_dataset(OD=OD_matrices_sioux, C=C_sioux, T_0=T_0_sioux, eps=0.005, num_samples=5000, with_capacities=True)"
   ]
  },
  {
   "cell_type": "code",
   "execution_count": null,
   "id": "f299deb0",
   "metadata": {},
   "outputs": [
    {
     "name": "stdout",
     "output_type": "stream",
     "text": [
      "Available cores: 12\n"
     ]
    }
   ],
   "source": [
    "import multiprocessing\n",
    "print(f\"Available cores: {multiprocessing.cpu_count()}\")"
   ]
  },
  {
   "cell_type": "code",
   "execution_count": null,
   "id": "0a4c8f3c",
   "metadata": {},
   "outputs": [],
   "source": [
    "import os\n",
    "import pickle\n",
    "import time\n",
    "import numpy as np\n",
    "import pandas as pd\n",
    "from concurrent.futures import ProcessPoolExecutor, as_completed\n",
    "from tqdm import tqdm\n",
    "\n",
    "def process_sample(args):\n",
    "    i, od, cap, T_0, eps, filepath, folder_name = args\n",
    "    start_time = time.time()\n",
    "    result_matrix, iter_num = leblanc_algorithm(T_0, od, cap, eps)\n",
    "    exec_time = time.time() - start_time\n",
    "    \n",
    "    data_pair = {\n",
    "        'input': od,\n",
    "        'capacity': cap,\n",
    "        'output': result_matrix,\n",
    "        'metadata': {\n",
    "            'iterations': iter_num,\n",
    "            'execution_time': exec_time\n",
    "        }\n",
    "    }\n",
    "    \n",
    "    filename = f\"{filepath}/{folder_name}/sample_{i:04d}_new_eps.pkl\"\n",
    "    with open(filename, 'wb') as f:\n",
    "        pickle.dump(data_pair, f, protocol=pickle.HIGHEST_PROTOCOL)\n",
    "    \n",
    "    return i, iter_num, exec_time\n",
    "\n",
    "def save_dataset_async(OD, C, T_0, eps, filepath, num_samples=5000, with_capacities=True):\n",
    "    folder_name = 'with_capacities' if with_capacities else 'no_capacities'\n",
    "    os.makedirs(f\"{filepath}/{folder_name}\", exist_ok=True)\n",
    "    \n",
    "    start_total = time.time()\n",
    "    od_matrices = generate_od_matrices(OD, num_samples)\n",
    "    if with_capacities:\n",
    "        capacities = generate_capacity_matrices(C, num_samples, disruption_level='L')\n",
    "    else:\n",
    "        capacities = np.array([C for i in range(num_samples)])\n",
    "    \n",
    "    args = [(i, od_matrices[i], capacities[i], T_0, eps, filepath, folder_name) \n",
    "            for i in range(num_samples)]\n",
    "    \n",
    "    completed = 0\n",
    "    time_per_sample = []\n",
    "    num_workers = min(8, os.cpu_count() - 2 if os.cpu_count() > 2 else 1)\n",
    "    \n",
    "    with ProcessPoolExecutor(max_workers=num_workers) as executor:\n",
    "        futures = {executor.submit(process_sample, arg): i for i, arg in enumerate(args)}\n",
    "        \n",
    "        with tqdm(total=num_samples, desc=\"Processing samples\") as pbar:\n",
    "            for future in as_completed(futures):\n",
    "                i, iter_num, exec_time = future.result()\n",
    "                time_per_sample.append(exec_time)\n",
    "                completed += 1\n",
    "                \n",
    "                avg_time = np.mean(time_per_sample[-100:]) if len(time_per_sample) > 0 else 0\n",
    "                remaining = (num_samples - completed) * avg_time / num_workers\n",
    "                \n",
    "                pbar.set_postfix({\n",
    "                    'completed': f\"{completed}/{num_samples}\",\n",
    "                    'avg_time': f\"{avg_time:.2f}s\",\n",
    "                    'remaining': f\"{remaining/60:.1f}min\",\n",
    "                    'total_est': f\"{(time.time() - start_total + remaining)/60:.1f}min\"\n",
    "                })\n",
    "                pbar.update(1)\n",
    "    \n",
    "    results = sorted([future.result() for future in futures], key=lambda x: x[0])\n",
    "    indices, iters, times = zip(*results)\n",
    "    \n",
    "    pd.DataFrame({\n",
    "        'eps': eps,\n",
    "        'sample_id': indices,\n",
    "        'iterations': iters,\n",
    "        'execution_time': times,\n",
    "        'filename': [f\"{filepath}/{folder_name}/sample_{i:04d}.pkl\" for i in indices]\n",
    "    }).to_csv(f\"{filepath}/{folder_name}_index.csv\", index=False)\n",
    "    \n",
    "    total_time = time.time() - start_total\n",
    "    print(f\"\\nCompleted {num_samples} samples in {total_time/60:.1f} minutes\")\n",
    "    print(f\"Average time per sample: {total_time/num_samples:.2f}s\")"
   ]
  },
  {
   "cell_type": "code",
   "execution_count": null,
   "id": "2cf18a9f",
   "metadata": {},
   "outputs": [
    {
     "ename": "NameError",
     "evalue": "name 'save_dataset_async' is not defined",
     "output_type": "error",
     "traceback": [
      "\u001b[31m---------------------------------------------------------------------------\u001b[39m",
      "\u001b[31mNameError\u001b[39m                                 Traceback (most recent call last)",
      "\u001b[36mCell\u001b[39m\u001b[36m \u001b[39m\u001b[32mIn[1]\u001b[39m\u001b[32m, line 1\u001b[39m\n\u001b[32m----> \u001b[39m\u001b[32m1\u001b[39m \u001b[43msave_dataset_async\u001b[49m(OD_sioux, C_sioux, T_0_sioux, eps=\u001b[32m0.0005\u001b[39m, filepath=filepath_sioux, num_samples=\u001b[32m100\u001b[39m, with_capacities=\u001b[38;5;28;01mFalse\u001b[39;00m)\n",
      "\u001b[31mNameError\u001b[39m: name 'save_dataset_async' is not defined"
     ]
    }
   ],
   "source": [
    "save_dataset_async(OD_sioux, C_sioux, T_0_sioux, eps=0.0005, filepath=filepath_sioux, num_samples=100, with_capacities=False)"
   ]
  },
  {
   "cell_type": "code",
   "execution_count": null,
   "id": "3a0300b4",
   "metadata": {},
   "outputs": [
    {
     "data": {
      "text/plain": [
       "(930, 930)"
      ]
     },
     "execution_count": 19,
     "metadata": {},
     "output_type": "execute_result"
    }
   ],
   "source": [
    "C_barc.shape"
   ]
  },
  {
   "cell_type": "code",
   "execution_count": null,
   "id": "a4dac328",
   "metadata": {},
   "outputs": [
    {
     "name": "stderr",
     "output_type": "stream",
     "text": [
      "Processing samples:   0%|          | 0/5 [00:00<?, ?it/s]\n"
     ]
    },
    {
     "ename": "IndexError",
     "evalue": "index 216 is out of bounds for axis 1 with size 110",
     "output_type": "error",
     "traceback": [
      "\u001b[31m---------------------------------------------------------------------------\u001b[39m",
      "\u001b[31m_RemoteTraceback\u001b[39m                          Traceback (most recent call last)",
      "\u001b[31m_RemoteTraceback\u001b[39m: \n\"\"\"\nTraceback (most recent call last):\n  File \"/home/polina/.pyenv/versions/3.12.5/lib/python3.12/concurrent/futures/process.py\", line 263, in _process_worker\n    r = call_item.fn(*call_item.args, **call_item.kwargs)\n        ^^^^^^^^^^^^^^^^^^^^^^^^^^^^^^^^^^^^^^^^^^^^^^^^^\n  File \"/tmp/ipykernel_137817/2589645224.py\", line 12, in process_sample\n    result_matrix, iter_num = leblanc_algorithm(T_0, od, cap, eps)\n                              ^^^^^^^^^^^^^^^^^^^^^^^^^^^^^^^^^^^^\n  File \"/home/polina/kans/traffic_assignment/leblanc.py\", line 22, in leblanc_algorithm\n    X = get_flow_matrix(graph, n, D)\n        ^^^^^^^^^^^^^^^^^^^^^^^^^^^^\n  File \"/home/polina/kans/traffic_assignment/leblanc.py\", line 73, in get_flow_matrix\n    X[path[k], path[k+1]] += D[i, j]\n    ~^^^^^^^^^^^^^^^^^^^^\nIndexError: index 216 is out of bounds for axis 1 with size 110\n\"\"\"",
      "\nThe above exception was the direct cause of the following exception:\n",
      "\u001b[31mIndexError\u001b[39m                                Traceback (most recent call last)",
      "\u001b[36mCell\u001b[39m\u001b[36m \u001b[39m\u001b[32mIn[15]\u001b[39m\u001b[32m, line 1\u001b[39m\n\u001b[32m----> \u001b[39m\u001b[32m1\u001b[39m \u001b[43msave_dataset_async\u001b[49m\u001b[43m(\u001b[49m\u001b[43mOD_barc\u001b[49m\u001b[43m,\u001b[49m\u001b[43m \u001b[49m\u001b[43mC_barc\u001b[49m\u001b[43m,\u001b[49m\u001b[43m \u001b[49m\u001b[43mT_0_barc\u001b[49m\u001b[43m,\u001b[49m\u001b[43m \u001b[49m\u001b[43meps\u001b[49m\u001b[43m=\u001b[49m\u001b[32;43m0.005\u001b[39;49m\u001b[43m,\u001b[49m\u001b[43m \u001b[49m\u001b[43mfilepath\u001b[49m\u001b[43m=\u001b[49m\u001b[43mfilepath_barc\u001b[49m\u001b[43m,\u001b[49m\u001b[43m \u001b[49m\u001b[43mnum_samples\u001b[49m\u001b[43m=\u001b[49m\u001b[32;43m5\u001b[39;49m\u001b[43m,\u001b[49m\u001b[43m \u001b[49m\u001b[43mwith_capacities\u001b[49m\u001b[43m=\u001b[49m\u001b[38;5;28;43;01mTrue\u001b[39;49;00m\u001b[43m)\u001b[49m\n",
      "\u001b[36mCell\u001b[39m\u001b[36m \u001b[39m\u001b[32mIn[8]\u001b[39m\u001b[32m, line 51\u001b[39m, in \u001b[36msave_dataset_async\u001b[39m\u001b[34m(OD, C, T_0, eps, filepath, num_samples, with_capacities)\u001b[39m\n\u001b[32m     49\u001b[39m \u001b[38;5;28;01mwith\u001b[39;00m tqdm(total=num_samples, desc=\u001b[33m\"\u001b[39m\u001b[33mProcessing samples\u001b[39m\u001b[33m\"\u001b[39m) \u001b[38;5;28;01mas\u001b[39;00m pbar:\n\u001b[32m     50\u001b[39m     \u001b[38;5;28;01mfor\u001b[39;00m future \u001b[38;5;129;01min\u001b[39;00m as_completed(futures):\n\u001b[32m---> \u001b[39m\u001b[32m51\u001b[39m         i, iter_num, exec_time = \u001b[43mfuture\u001b[49m\u001b[43m.\u001b[49m\u001b[43mresult\u001b[49m\u001b[43m(\u001b[49m\u001b[43m)\u001b[49m\n\u001b[32m     52\u001b[39m         time_per_sample.append(exec_time)\n\u001b[32m     53\u001b[39m         completed += \u001b[32m1\u001b[39m\n",
      "\u001b[36mFile \u001b[39m\u001b[32m~/.pyenv/versions/3.12.5/lib/python3.12/concurrent/futures/_base.py:449\u001b[39m, in \u001b[36mFuture.result\u001b[39m\u001b[34m(self, timeout)\u001b[39m\n\u001b[32m    447\u001b[39m     \u001b[38;5;28;01mraise\u001b[39;00m CancelledError()\n\u001b[32m    448\u001b[39m \u001b[38;5;28;01melif\u001b[39;00m \u001b[38;5;28mself\u001b[39m._state == FINISHED:\n\u001b[32m--> \u001b[39m\u001b[32m449\u001b[39m     \u001b[38;5;28;01mreturn\u001b[39;00m \u001b[38;5;28;43mself\u001b[39;49m\u001b[43m.\u001b[49m\u001b[43m__get_result\u001b[49m\u001b[43m(\u001b[49m\u001b[43m)\u001b[49m\n\u001b[32m    451\u001b[39m \u001b[38;5;28mself\u001b[39m._condition.wait(timeout)\n\u001b[32m    453\u001b[39m \u001b[38;5;28;01mif\u001b[39;00m \u001b[38;5;28mself\u001b[39m._state \u001b[38;5;129;01min\u001b[39;00m [CANCELLED, CANCELLED_AND_NOTIFIED]:\n",
      "\u001b[36mFile \u001b[39m\u001b[32m~/.pyenv/versions/3.12.5/lib/python3.12/concurrent/futures/_base.py:401\u001b[39m, in \u001b[36mFuture.__get_result\u001b[39m\u001b[34m(self)\u001b[39m\n\u001b[32m    399\u001b[39m \u001b[38;5;28;01mif\u001b[39;00m \u001b[38;5;28mself\u001b[39m._exception:\n\u001b[32m    400\u001b[39m     \u001b[38;5;28;01mtry\u001b[39;00m:\n\u001b[32m--> \u001b[39m\u001b[32m401\u001b[39m         \u001b[38;5;28;01mraise\u001b[39;00m \u001b[38;5;28mself\u001b[39m._exception\n\u001b[32m    402\u001b[39m     \u001b[38;5;28;01mfinally\u001b[39;00m:\n\u001b[32m    403\u001b[39m         \u001b[38;5;66;03m# Break a reference cycle with the exception in self._exception\u001b[39;00m\n\u001b[32m    404\u001b[39m         \u001b[38;5;28mself\u001b[39m = \u001b[38;5;28;01mNone\u001b[39;00m\n",
      "\u001b[31mIndexError\u001b[39m: index 216 is out of bounds for axis 1 with size 110"
     ]
    }
   ],
   "source": [
    "save_dataset_async(OD_barc, C_barc, T_0_barc, eps=0.05, filepath=filepath_barc, num_samples=5, with_capacities=True)"
   ]
  },
  {
   "cell_type": "code",
   "execution_count": null,
   "id": "c01fb95f",
   "metadata": {},
   "outputs": [],
   "source": [
    "x, y = generate_od_matrices(D, 1)[0], capacities[0]"
   ]
  },
  {
   "cell_type": "code",
   "execution_count": null,
   "id": "32566898",
   "metadata": {},
   "outputs": [
    {
     "data": {
      "text/plain": [
       "(array([[   0,    0,  707, ...,    0,    0,    0],\n",
       "        [   0,    0, 1323, ...,    0,    0,    0],\n",
       "        [ 297, 1091,    0, ...,    0,    0,    0],\n",
       "        ...,\n",
       "        [   0,    0,    0, ...,    0,    0,    0],\n",
       "        [   0,    0,    0, ...,    0,    0,    0],\n",
       "        [   0,    0,    0, ...,    0,    0,    0]], shape=(74, 74)),\n",
       " 28)"
      ]
     },
     "execution_count": 20,
     "metadata": {},
     "output_type": "execute_result"
    }
   ],
   "source": [
    "leblanc_algorithm(T_0, x, y, epsilon=0.05)"
   ]
  },
  {
   "cell_type": "code",
   "execution_count": null,
   "id": "e1f0d2d2",
   "metadata": {},
   "outputs": [
    {
     "data": {
      "text/plain": [
       "(array([[   0,    0,  707, ...,    0,    0,    0],\n",
       "        [   0,    0, 1323, ...,    0,    0,    0],\n",
       "        [ 297, 1091,    0, ...,    0,    0,    0],\n",
       "        ...,\n",
       "        [   0,    0,    0, ...,    0,    0,    0],\n",
       "        [   0,    0,    0, ...,    0,    0,    0],\n",
       "        [   0,    0,    0, ...,    0,    0,    0]], shape=(74, 74)),\n",
       " 189)"
      ]
     },
     "execution_count": 18,
     "metadata": {},
     "output_type": "execute_result"
    }
   ],
   "source": [
    "leblanc_algorithm(T_0, x, y, epsilon=0.005)"
   ]
  },
  {
   "cell_type": "code",
   "execution_count": null,
   "id": "e36866ca",
   "metadata": {},
   "outputs": [],
   "source": [
    "path_ema = \"/home/podozerovapo/traffic_assignment/data/EMA/uncongested/sample_0000.pkl\"\n",
    "with open(path_ema, 'rb') as f:\n",
    "    data_ema = pickle.load(f)"
   ]
  },
  {
   "cell_type": "code",
   "execution_count": null,
   "id": "9c9ce029",
   "metadata": {},
   "outputs": [
    {
     "data": {
      "text/plain": [
       "dict_keys(['input', 'output', 'metadata'])"
      ]
     },
     "execution_count": 17,
     "metadata": {},
     "output_type": "execute_result"
    }
   ],
   "source": [
    "data_ema.keys()"
   ]
  },
  {
   "cell_type": "code",
   "execution_count": null,
   "id": "0c441c11",
   "metadata": {},
   "outputs": [
    {
     "data": {
      "text/plain": [
       "array([[  0,  40, 562, ...,   0,   0,   0],\n",
       "       [ 58,   0, 104, ...,   0,   0,   0],\n",
       "       [ 66,  85,   0, ...,   0,   0,   0],\n",
       "       ...,\n",
       "       [  0,   0,   0, ...,   0,   0,   0],\n",
       "       [  0,   0,   0, ...,   0,   0,   0],\n",
       "       [  0,   0,   0, ...,   0,   0,   0]], shape=(74, 74))"
      ]
     },
     "execution_count": 14,
     "metadata": {},
     "output_type": "execute_result"
    }
   ],
   "source": [
    "data_ema['input']"
   ]
  }
 ],
 "metadata": {
  "kernelspec": {
   "display_name": "kan_venv",
   "language": "python",
   "name": "python3"
  },
  "language_info": {
   "codemirror_mode": {
    "name": "ipython",
    "version": 3
   },
   "file_extension": ".py",
   "mimetype": "text/x-python",
   "name": "python",
   "nbconvert_exporter": "python",
   "pygments_lexer": "ipython3",
   "version": "3.12.5"
  }
 },
 "nbformat": 4,
 "nbformat_minor": 5
}
