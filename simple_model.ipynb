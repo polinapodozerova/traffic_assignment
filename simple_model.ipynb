{
 "cells": [
  {
   "cell_type": "code",
   "execution_count": 4,
   "id": "5c23d494",
   "metadata": {},
   "outputs": [],
   "source": [
    "import pandas as pd\n",
    "import numpy as np\n",
    "from sklearn.preprocessing import StandardScaler\n",
    "from sklearn.metrics import mean_squared_error, r2_score, mean_absolute_error\n",
    "from sklearn.linear_model import LinearRegression\n",
    "from utils import *"
   ]
  },
  {
   "cell_type": "code",
   "execution_count": null,
   "id": "0dacae5e",
   "metadata": {},
   "outputs": [],
   "source": [
    "directory_sioux = \"/home/podozerovapo/traffic_assignment/data/sioux/uncongested\"\n",
    "directory_ema = \"/home/podozerovapo/traffic_assignment/data/sioux/uncongested\""
   ]
  },
  {
   "cell_type": "markdown",
   "id": "a8355dfa",
   "metadata": {},
   "source": [
    "# Linear Regression"
   ]
  },
  {
   "cell_type": "markdown",
   "id": "ca30e9de",
   "metadata": {},
   "source": [
    "## Part 1: fixed capacities and free-flow times"
   ]
  },
  {
   "cell_type": "code",
   "execution_count": null,
   "id": "ca30e9de",
   "metadata": {},
   "outputs": [],
   "source": [
    "sioux = create_network_df(network_name=\"SiouxFalls\")\n",
    "T_0, C = prepare_network_data(sioux)\n",
    "\n",
    "inputs = []\n",
    "outputs = []\n",
    "metadata = []\n",
    "\n",
    "def load_inp_outp(directory):\n",
    "    for filename in sorted(os.listdir(directory)):\n",
    "        if filename.endswith(\".pkl\"):\n",
    "            filepath = os.path.join(directory, filename)\n",
    "            \n",
    "            with open(filepath, 'rb') as f:\n",
    "                data_pair = pickle.load(f)\n",
    "                \n",
    "                inputs.append(data_pair['input'])\n",
    "                outputs.append(data_pair['output'])\n",
    "                metadata.append(data_pair.get('metadata', None))\n",
    "\n",
    "    input_matrices = np.array(inputs)  # [num_samples, num_nodes, num_nodes]\n",
    "    output_matrices = np.array(outputs)  # [num_samples, num_nodes, num_nodes]\n",
    "    return input_matrices, output_matrices"
   ]
  },
  {
   "cell_type": "code",
   "execution_count": null,
   "id": "e97b44aa",
   "metadata": {},
   "outputs": [],
   "source": [
    "target, OD, C = load_data_diff_capacities()"
   ]
  },
  {
   "cell_type": "markdown",
   "id": "44fd143a",
   "metadata": {},
   "source": [
    "## Part 2: fixed free-flow times"
   ]
  },
  {
   "cell_type": "markdown",
   "id": "cb6edcfb",
   "metadata": {},
   "source": [
    "# KANs"
   ]
  }
 ],
 "metadata": {
  "kernelspec": {
   "display_name": "diplom_venv",
   "language": "python",
   "name": "python3"
  },
  "language_info": {
   "codemirror_mode": {
    "name": "ipython",
    "version": 3
   },
   "file_extension": ".py",
   "mimetype": "text/x-python",
   "name": "python",
   "nbconvert_exporter": "python",
   "pygments_lexer": "ipython3",
   "version": "3.10.12"
  }
 },
 "nbformat": 4,
 "nbformat_minor": 5
}
